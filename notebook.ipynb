{
 "cells": [
  {
   "cell_type": "markdown",
   "source": [
    "# House Prices - Advanced Regression Techniques\n",
    "\n",
    "Predict sales prices and practice feature engineering, RFs, and gradient boosting"
   ],
   "metadata": {
    "collapsed": false
   }
  },
  {
   "cell_type": "code",
   "execution_count": null,
   "outputs": [],
   "source": [
    "# 1. feature selection\n",
    "# 2. Suddivisione training e testing\n",
    "# 3. Model selection con K-fold cross validation\n",
    "# 4. Training (Tuning iperparametri) con k-fold cross validation\n",
    "# 5. Valutare il modello con il testing set\n",
    "# 6. Scegliere il metodo di score (R^2)\n",
    "# Bagging, Boosting (Gradient Boosting) e altro"
   ],
   "metadata": {
    "collapsed": false
   }
  }
 ],
 "metadata": {
  "kernelspec": {
   "display_name": "Python 3",
   "language": "python",
   "name": "python3"
  },
  "language_info": {
   "codemirror_mode": {
    "name": "ipython",
    "version": 2
   },
   "file_extension": ".py",
   "mimetype": "text/x-python",
   "name": "python",
   "nbconvert_exporter": "python",
   "pygments_lexer": "ipython2",
   "version": "2.7.6"
  }
 },
 "nbformat": 4,
 "nbformat_minor": 0
}
